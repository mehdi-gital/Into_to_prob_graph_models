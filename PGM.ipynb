{
 "cells": [
  {
   "cell_type": "markdown",
   "metadata": {
    "slideshow": {
     "slide_type": "slide"
    }
   },
   "source": [
    "# Introduction to graphical models"
   ]
  },
  {
   "cell_type": "markdown",
   "metadata": {
    "slideshow": {
     "slide_type": "subslide"
    }
   },
   "source": [
    "Mehdi Garrousian - mgarrous@alumni.uwo.ca - Dec 1, 2017 - Ryerson U. "
   ]
  },
  {
   "cell_type": "markdown",
   "metadata": {
    "slideshow": {
     "slide_type": "subslide"
    }
   },
   "source": [
    "Goal: Given some observed data $\\{(x_1^1,\\dots, x_n^1),\\dots, (x_1^m,\\dots, x_n^m)\\}$ in the joint probability space of $n$ random variables $X_1,\\dots, X_n$, make predictions about new events by estimating the pertinent joint and conditional probabilites. "
   ]
  },
  {
   "cell_type": "markdown",
   "metadata": {},
   "source": [
    "#### Monty Hall problem (Wiki)\n",
    "\n",
    "Suppose you're on a game show, and you're given the choice of three doors: Behind one door is a car; behind the others, goats. You pick a door, say No. 1, and the host, who knows what's behind the doors, opens another door, say No. 3, which has a goat. He then says to you, \"Do you want to pick door No. 2?\" Is it to your advantage to switch your choice? "
   ]
  },
  {
   "cell_type": "markdown",
   "metadata": {},
   "source": [
    "<img src=\"montyhall.png\">"
   ]
  },
  {
   "cell_type": "markdown",
   "metadata": {},
   "source": [
    "### Some Statistics"
   ]
  },
  {
   "cell_type": "markdown",
   "metadata": {},
   "source": [
    "Conditional probability: $$p(\\alpha | \\beta) = \\frac{p(\\alpha \\cap \\beta)}{p(\\beta)}$$"
   ]
  },
  {
   "cell_type": "markdown",
   "metadata": {},
   "source": [
    "Chain rule:\n",
    "    $$p(\\alpha_1\\cap \\dots \\cap\\alpha_k) = p(\\alpha_1) p(\\alpha_2|\\alpha_1) \\dots p(\\alpha_k|\\alpha_1\\cap\\dots\\cap \\alpha_{k-1})$$"
   ]
  },
  {
   "cell_type": "markdown",
   "metadata": {},
   "source": [
    "Bayes' rule allows you to switch around the event and the condition. "
   ]
  },
  {
   "cell_type": "markdown",
   "metadata": {},
   "source": [
    "A random variable $X$ is a map that labels the elements of a sample space $\\Omega$. \n",
    "\n",
    "\\begin{align}\n",
    "X: \\Omega & \\to \\mathbb{R} \\\\\n",
    "p(X=x) & := p(\\{\\alpha \\in \\Omega: X(\\alpha)=x\\})\n",
    "\\end{align}"
   ]
  },
  {
   "cell_type": "markdown",
   "metadata": {},
   "source": [
    "We say two events $\\alpha$ and $\\beta$ are independent if $p(\\alpha| \\beta)=p(\\alpha)$ or if $p(\\beta)=0$, and denote this by $\\alpha \\_\\|\\_  \\beta$, which is equivalent to $p(\\alpha \\cap \\beta) = p(\\alpha) p(\\beta)$. "
   ]
  },
  {
   "cell_type": "markdown",
   "metadata": {},
   "source": [
    "Example. Let's toss a coin and a die and let:\n",
    "\n",
    "$\\alpha$ = (die = 6),  $\\beta$ = (die = odd number),  and $\\gamma$ = (coin = H). \n",
    "\n",
    "Then:\n",
    "$$ \\alpha \\_\\|\\_ \\gamma, \\quad \\alpha \\_\\not\\|\\_ \\beta$$"
   ]
  },
  {
   "cell_type": "markdown",
   "metadata": {},
   "source": [
    "#### Conditional version"
   ]
  },
  {
   "cell_type": "markdown",
   "metadata": {},
   "source": [
    "Say $\\alpha \\_\\|\\_ \\beta\\, \\big| \\, \\gamma$ if $p(\\alpha | \\beta \\cap \\gamma) = p(\\alpha | \\gamma)$ or $p(\\beta\\cap \\gamma) = 0$. \n",
    "\n",
    "This is equivalent to $p(\\alpha \\cap \\beta | \\gamma)= p(\\alpha|\\gamma)p(\\beta|\\gamma)$.\n",
    "\n",
    "<font color='blue'>In a nutshell: indepdence allows you to multiply instead of taking joint probability.</font>"
   ]
  },
  {
   "cell_type": "markdown",
   "metadata": {},
   "source": [
    "### Bayesian Networks"
   ]
  },
  {
   "cell_type": "markdown",
   "metadata": {},
   "source": [
    "A Bayesian Network is a directed acyclic graph $G=(V,E)$ together with a random variable $X_i$ and a conditional probability distribution (CPD) $p(X_i|Pa(X_i))$ for each vertex $i$ where $Pa(X_i)$ represents the parents of vertex $i$. \n",
    "\n",
    "<img src=\"V.png\">"
   ]
  },
  {
   "cell_type": "markdown",
   "metadata": {},
   "source": [
    "#### Example. \n",
    "\n",
    "V-structure with X = (die 1 = 1), Y = (die 2 = 4) and Z = (sum = 4). \n",
    "\n",
    "$$p(x,y,z) = p(Z=z|X=x)p(Y=y|Z=z)p(X=x)p(Y=y)$$\n",
    "\n",
    "Note that $X \\_\\|\\_ Y$ but $X  \\_\\not\\|\\_ Y \\big| Z$. "
   ]
  },
  {
   "cell_type": "markdown",
   "metadata": {},
   "source": [
    "#### Factorization of Probability Distributions\n",
    "Let $G$ be a BN graph over the variables $X_1,\\dots, X_n$. We say that a distribution $p$ over the same space factorizes over $G$ if\n",
    "$$p(X_1,\\dots, X_n) = \\Pi_{i=1}^n p(X_i|Pa(X_i^G))$$\n",
    "This is the chain rule for Bayesian Networks. "
   ]
  },
  {
   "cell_type": "markdown",
   "metadata": {},
   "source": [
    "#### Local independencies:\n",
    "\n",
    "For each $X_i$, we have $$X_i \\_\\|\\_ {\\textrm{NonDescendants}}(X_i)\\, \\big|\\, Pa(X_i)$$"
   ]
  },
  {
   "cell_type": "markdown",
   "metadata": {},
   "source": [
    "#### Active trails\n",
    "\n",
    "A trail $X_1 \\leftrightarrow X_2 \\cdots \\leftrightarrow X_n$ is active given $C$ if we have a V-structure $X_{i-1}\\rightarrow X_i \\leftarrow X_{i+1}$, $X_i$ or one of its descendants belong to $C$. Otherwise, no node of $C$ is allowed to be on the trail."
   ]
  },
  {
   "cell_type": "markdown",
   "metadata": {},
   "source": [
    "#### $d$-separation and Global Independencies\n",
    "\n",
    "Let $A, B$ and $C$ be subsets of vertices of $G$. We say $A$ and $B$ are $d$-separated given $C$ if there are **no active trails** from any node in $A$ to any node in $B$ when $C$ is observed.\n",
    "\n",
    "In other words, whenever there's a path, some observed variables blocks it unless the observed variable is the base of a $V$-structure or one of its descendants. \n",
    "\n",
    "##### Example \n",
    "\n",
    "<img src=\"student_graph.png\">"
   ]
  },
  {
   "cell_type": "markdown",
   "metadata": {},
   "source": [
    "Theorem: If a distribution $P$ factorizes over $G$, then $I(G)\\subseteq I(P)$. \n",
    "\n",
    "Moreover, for all distributions except a set of measure zero, equality holds."
   ]
  },
  {
   "cell_type": "markdown",
   "metadata": {},
   "source": [
    "#### Local Indep = Global Indep"
   ]
  },
  {
   "cell_type": "markdown",
   "metadata": {},
   "source": [
    "### Queries\n",
    "\n",
    "-- <font color='green'>Probability query:</font>\n",
    "- Evidence: a subset of the random variables $E$ and an instantiation $e\\in E$. \n",
    "- Query variables: a subset $Y$ of the random variables in the network. \n",
    "\n",
    "$$p(Y|e)?$$\n",
    "\n",
    "Example: pr(have flu | runny nose)?\n",
    "\n",
    "-- <font color='green'>Most probable explanation (MAP query):</font> let W = V - E.\n",
    "$$MAP(W|e) = {\\textrm{argmax}}_{w}p(w|e)$$\n",
    "\n",
    "Example: what's the correction in a word that has a spelling error?"
   ]
  },
  {
   "cell_type": "markdown",
   "metadata": {},
   "source": [
    "In principle, both of types of queries require variable elimination. \n",
    "\n",
    "$$p(a,b) = \\sum_{c,d} p(a,b,c,d)$$\n",
    "\n",
    "<font color='blue'>The factorization of a Bayesian network facilitates the process by breaking the sum over fewer variables.</font>"
   ]
  },
  {
   "cell_type": "markdown",
   "metadata": {},
   "source": [
    "### Back to the Monty Hall question. "
   ]
  },
  {
   "cell_type": "code",
   "execution_count": 1,
   "metadata": {
    "collapsed": true
   },
   "outputs": [],
   "source": [
    "import numpy as np\n",
    "from pgmpy.models import BayesianModel\n",
    "from pgmpy.factors.discrete import TabularCPD\n",
    "from IPython.core.interactiveshell import InteractiveShell\n",
    "InteractiveShell.ast_node_interactivity = \"all\"\n",
    "\n",
    "# credit: pgmpy documentation\n",
    "\n",
    "# Defining the network (V-)structure, C = Contestant, H = Host and P = Prize\n",
    "model = BayesianModel([('C', 'H'), ('P', 'H')])\n",
    "\n",
    "# Defining the CPDs:\n",
    "cpd_c = TabularCPD('C', 3, [[0.33, 0.33, 0.33]])\n",
    "cpd_p = TabularCPD('P', 3, [[0.33, 0.33, 0.33]])\n",
    "cpd_h = TabularCPD('H', 3, [[0, 0, 0, 0, 0.5, 1, 0, 1, 0.5], \n",
    "                            [0.5, 0, 1, 0, 0, 0, 1, 0, 0.5], \n",
    "                            [0.5, 1, 0, 1, 0.5, 0, 0, 0, 0]],\n",
    "                  evidence=['C', 'P'], evidence_card=[3, 3])"
   ]
  },
  {
   "cell_type": "code",
   "execution_count": 2,
   "metadata": {
    "collapsed": false
   },
   "outputs": [],
   "source": [
    "# Associating the CPDs with the network structure.\n",
    "model.add_cpds(cpd_c, cpd_p, cpd_h)"
   ]
  },
  {
   "cell_type": "code",
   "execution_count": 3,
   "metadata": {
    "collapsed": false
   },
   "outputs": [
    {
     "name": "stdout",
     "output_type": "stream",
     "text": [
      "╒═════╤══════╕\n",
      "│ C_0 │ 0.33 │\n",
      "├─────┼──────┤\n",
      "│ C_1 │ 0.33 │\n",
      "├─────┼──────┤\n",
      "│ C_2 │ 0.33 │\n",
      "╘═════╧══════╛\n"
     ]
    }
   ],
   "source": [
    "print(cpd_c)"
   ]
  },
  {
   "cell_type": "code",
   "execution_count": 4,
   "metadata": {
    "collapsed": false
   },
   "outputs": [
    {
     "name": "stdout",
     "output_type": "stream",
     "text": [
      "╒═════╤═════╤═════╤═════╤═════╤═════╤═════╤═════╤═════╤═════╕\n",
      "│ C   │ C_0 │ C_0 │ C_0 │ C_1 │ C_1 │ C_1 │ C_2 │ C_2 │ C_2 │\n",
      "├─────┼─────┼─────┼─────┼─────┼─────┼─────┼─────┼─────┼─────┤\n",
      "│ P   │ P_0 │ P_1 │ P_2 │ P_0 │ P_1 │ P_2 │ P_0 │ P_1 │ P_2 │\n",
      "├─────┼─────┼─────┼─────┼─────┼─────┼─────┼─────┼─────┼─────┤\n",
      "│ H_0 │ 0.0 │ 0.0 │ 0.0 │ 0.0 │ 0.5 │ 1.0 │ 0.0 │ 1.0 │ 0.5 │\n",
      "├─────┼─────┼─────┼─────┼─────┼─────┼─────┼─────┼─────┼─────┤\n",
      "│ H_1 │ 0.5 │ 0.0 │ 1.0 │ 0.0 │ 0.0 │ 0.0 │ 1.0 │ 0.0 │ 0.5 │\n",
      "├─────┼─────┼─────┼─────┼─────┼─────┼─────┼─────┼─────┼─────┤\n",
      "│ H_2 │ 0.5 │ 1.0 │ 0.0 │ 1.0 │ 0.5 │ 0.0 │ 0.0 │ 0.0 │ 0.0 │\n",
      "╘═════╧═════╧═════╧═════╧═════╧═════╧═════╧═════╧═════╧═════╛\n"
     ]
    }
   ],
   "source": [
    "# The host won't open the door that has the prize. That's it!\n",
    "# P(H=h|C,P)\n",
    "print(cpd_h)"
   ]
  },
  {
   "cell_type": "code",
   "execution_count": 5,
   "metadata": {
    "collapsed": true
   },
   "outputs": [],
   "source": [
    "# Infering the posterior probability \n",
    "from pgmpy.inference import VariableElimination"
   ]
  },
  {
   "cell_type": "code",
   "execution_count": 6,
   "metadata": {
    "collapsed": false,
    "scrolled": true
   },
   "outputs": [
    {
     "name": "stdout",
     "output_type": "stream",
     "text": [
      "╒═════╤══════════╕\n",
      "│ P   │   phi(P) │\n",
      "╞═════╪══════════╡\n",
      "│ P_0 │   0.3333 │\n",
      "├─────┼──────────┤\n",
      "│ P_1 │   0.6667 │\n",
      "├─────┼──────────┤\n",
      "│ P_2 │   0.0000 │\n",
      "╘═════╧══════════╛\n"
     ]
    }
   ],
   "source": [
    "infer = VariableElimination(model)\n",
    "posterior_p = infer.query(['P'], evidence={'C': 0, 'H': 2})\n",
    "print(posterior_p['P'])"
   ]
  },
  {
   "cell_type": "markdown",
   "metadata": {},
   "source": [
    "P_1 > P_0"
   ]
  },
  {
   "cell_type": "markdown",
   "metadata": {},
   "source": [
    "### Markov Random Fields or Markov Networks (undirected graphical models)"
   ]
  },
  {
   "cell_type": "markdown",
   "metadata": {},
   "source": [
    "A Markov Network is a symmetric version of a Bayesian network where one tries to create dependencies among the random variables that are connected in the graph. \n",
    "\n",
    "MNs are generally more costly to use than BNs. It's possible to pass from one to the other while controlling the CI formulas. "
   ]
  },
  {
   "cell_type": "markdown",
   "metadata": {},
   "source": [
    "#### The Misconception Example\n",
    "\n",
    "Alice, Bob, Charles and Debbie attend a lecture where the prof makes a mistake. They are associated as the follwoing graph shows and tend to agree or disagree with each other according to the following values ..."
   ]
  },
  {
   "cell_type": "code",
   "execution_count": 7,
   "metadata": {
    "collapsed": false
   },
   "outputs": [],
   "source": [
    "from pgmpy.models import MarkovModel\n",
    "from pgmpy.factors.discrete import DiscreteFactor\n",
    "MSC = MarkovModel()\n",
    "MSC.add_nodes_from(['Alice', 'Bob', 'Charles','Debbie'])\n",
    "MSC.add_edges_from([('Alice', 'Bob'), ('Bob', 'Charles'),('Charles', 'Debbie'), ('Debbie', 'Alice')])"
   ]
  },
  {
   "cell_type": "code",
   "execution_count": 8,
   "metadata": {
    "collapsed": false
   },
   "outputs": [],
   "source": [
    "factor_ab = DiscreteFactor(['Alice', 'Bob'], cardinality=[2, 2],values=[30, 5, 1, 10])\n",
    "factor_bc = DiscreteFactor(['Bob', 'Charles'], cardinality=[2, 2],values=[100, 1, 1, 10])\n",
    "factor_cd = DiscreteFactor(['Charles', 'Debbie'], cardinality=[2, 2],values=[1, 100, 100, 1])\n",
    "factor_da = DiscreteFactor(['Debbie', 'Alice'], cardinality=[2, 2],values=[100, 1, 1, 100])"
   ]
  },
  {
   "cell_type": "code",
   "execution_count": 9,
   "metadata": {
    "collapsed": false
   },
   "outputs": [],
   "source": [
    "MSC.add_factors(factor_ab,factor_bc,factor_cd,factor_da)"
   ]
  },
  {
   "cell_type": "code",
   "execution_count": 10,
   "metadata": {
    "collapsed": true
   },
   "outputs": [],
   "source": [
    "from pgmpy.inference import VariableElimination \n",
    "MSC_elim = VariableElimination(MSC)"
   ]
  },
  {
   "cell_type": "code",
   "execution_count": 11,
   "metadata": {
    "collapsed": false
   },
   "outputs": [
    {
     "name": "stdout",
     "output_type": "stream",
     "text": [
      "╒═════════╤══════════════╕\n",
      "│ Alice   │   phi(Alice) │\n",
      "╞═════════╪══════════════╡\n",
      "│ Alice_0 │       0.2308 │\n",
      "├─────────┼──────────────┤\n",
      "│ Alice_1 │       0.7692 │\n",
      "╘═════════╧══════════════╛\n"
     ]
    }
   ],
   "source": [
    "A = MSC_elim.query(['Alice'], evidence={'Debbie': 1,'Bob': 0})\n",
    "print(A['Alice'])"
   ]
  },
  {
   "cell_type": "code",
   "execution_count": 12,
   "metadata": {
    "collapsed": false
   },
   "outputs": [
    {
     "name": "stdout",
     "output_type": "stream",
     "text": [
      "╒══════════╤═══════════════╕\n",
      "│ Debbie   │   phi(Debbie) │\n",
      "╞══════════╪═══════════════╡\n",
      "│ Debbie_0 │        0.0099 │\n",
      "├──────────┼───────────────┤\n",
      "│ Debbie_1 │        0.9901 │\n",
      "╘══════════╧═══════════════╛\n"
     ]
    }
   ],
   "source": [
    "A = MSC_elim.query(['Debbie'], evidence={'Charles': 0, 'Alice': 1})\n",
    "print(A['Debbie'])"
   ]
  },
  {
   "cell_type": "code",
   "execution_count": 13,
   "metadata": {
    "collapsed": false
   },
   "outputs": [
    {
     "name": "stdout",
     "output_type": "stream",
     "text": [
      "╒═══════╤════════════╕\n",
      "│ Bob   │   phi(Bob) │\n",
      "╞═══════╪════════════╡\n",
      "│ Bob_0 │     0.9216 │\n",
      "├───────┼────────────┤\n",
      "│ Bob_1 │     0.0784 │\n",
      "╘═══════╧════════════╛\n"
     ]
    }
   ],
   "source": [
    "A = MSC_elim.query(['Bob'], evidence={'Debbie': 1})\n",
    "print(A['Bob'])"
   ]
  },
  {
   "cell_type": "code",
   "execution_count": 14,
   "metadata": {
    "collapsed": false
   },
   "outputs": [
    {
     "data": {
      "text/plain": [
       "(Alice _|_ Charles | Debbie, Bob)\n",
       "(Bob _|_ Debbie | Alice, Charles)\n",
       "(Charles _|_ Alice | Debbie, Bob)\n",
       "(Debbie _|_ Bob | Alice, Charles)"
      ]
     },
     "execution_count": 14,
     "metadata": {},
     "output_type": "execute_result"
    }
   ],
   "source": [
    "# independeces of the original model\n",
    "MSC.get_local_independencies()"
   ]
  },
  {
   "cell_type": "code",
   "execution_count": 15,
   "metadata": {
    "collapsed": false
   },
   "outputs": [
    {
     "data": {
      "text/plain": [
       "[('Debbie', 'Bob'),\n",
       " ('Debbie', 'Alice'),\n",
       " ('Debbie', 'Charles'),\n",
       " ('Bob', 'Alice'),\n",
       " ('Bob', 'Charles')]"
      ]
     },
     "execution_count": 15,
     "metadata": {},
     "output_type": "execute_result"
    }
   ],
   "source": [
    "MSC.to_bayesian_model().edges()"
   ]
  },
  {
   "cell_type": "code",
   "execution_count": 16,
   "metadata": {
    "collapsed": false
   },
   "outputs": [
    {
     "data": {
      "text/plain": [
       "[('Debbie', 'Bob'),\n",
       " ('Debbie', 'Alice'),\n",
       " ('Debbie', 'Charles'),\n",
       " ('Bob', 'Alice'),\n",
       " ('Bob', 'Charles')]"
      ]
     },
     "execution_count": 16,
     "metadata": {},
     "output_type": "execute_result"
    }
   ],
   "source": [
    "MSC.to_bayesian_model().edges()"
   ]
  },
  {
   "cell_type": "code",
   "execution_count": 17,
   "metadata": {
    "collapsed": false
   },
   "outputs": [
    {
     "data": {
      "text/plain": [
       "(Alice _|_ Charles | Debbie, Bob)\n",
       "(Charles _|_ Alice | Debbie, Bob)"
      ]
     },
     "execution_count": 17,
     "metadata": {},
     "output_type": "execute_result"
    }
   ],
   "source": [
    "# independeces of the BN analogue\n",
    "MSC.to_bayesian_model().get_independencies()"
   ]
  },
  {
   "cell_type": "markdown",
   "metadata": {},
   "source": [
    "### The joint probability\n",
    "\n",
    "Let $\\cal{C}$ be the collection of cliques (complete subgraphs) of $G$. \n",
    "\n",
    "Given positive $\\mathbb{R}$ functions $\\varphi_C:{\\mathcal{V}}_C\\to {\\mathbb{R}}$, one per clique, a MN (or MRF) defines a joint probability distribution as follows. "
   ]
  },
  {
   "cell_type": "markdown",
   "metadata": {},
   "source": [
    "#### Factors\n",
    "\n",
    "Let $C$ be a set of random variables on an MN. A factor is a function $\\phi: Val(C)\\to \\mathbb{R}$. A higher value between two values indicates an affinity or compatibility between them. "
   ]
  },
  {
   "cell_type": "markdown",
   "metadata": {},
   "source": [
    "\\begin{align}\n",
    "p(V=v) = \\frac{1}{Z} \\Pi_{C\\in \\mathcal{C}}\\phi_C(X_C)\n",
    "\\end{align}\n",
    "$Z$ is the normalization factor. "
   ]
  },
  {
   "cell_type": "markdown",
   "metadata": {},
   "source": [
    "#### Pairwise Independence\n",
    "\n",
    "Given a nonadjacent pair $(X,Y)$, we have $X \\_\\|\\_ Y \\, \\big| \\,V\\setminus\\{ X,Y\\}$.\n",
    "\n",
    "\n",
    "#### Makov Blanket Independecies\n",
    "\n",
    "Given a vertex $X$, we have $X \\_\\|\\_  (V-{\\textrm{MB}}(X)-\\{X\\}) | {\\textrm{MB}}(X)$."
   ]
  },
  {
   "cell_type": "markdown",
   "metadata": {},
   "source": [
    "#### Active Paths\n",
    "\n",
    "Let $G$ be a MN structure and $X_1-\\cdots-X_n$ a path. Let $Z\\subset V$ be a set of observed variables. The path $X_1-\\cdots-X_n$ is active given $Z$ if none of $X_i$'s is in $Z$. "
   ]
  },
  {
   "cell_type": "markdown",
   "metadata": {},
   "source": [
    "#### Separation \n",
    "\n",
    "We say $Z$ separates $X$ and $Y$ if there's no active path from any node in $X$ to any node in $Y$. The collection of all such triples defines the **global dependcies**. In other words, variables $X,Y$ are dependent if they are connected by a path of unobserved variables."
   ]
  },
  {
   "cell_type": "markdown",
   "metadata": {},
   "source": [
    "**Theorem.** If $X$ and $Y$ are not separated given $Z$ in a MN strcutre $G$. Then, $X$ and $Y$ are dependent in a distribution that factorizes over $G$. "
   ]
  },
  {
   "cell_type": "markdown",
   "metadata": {},
   "source": [
    "# Learning"
   ]
  },
  {
   "cell_type": "markdown",
   "metadata": {},
   "source": [
    "#### Maximum Likelihood Estimation\n",
    "\n",
    "In estimating a statistical model, MLE attempts to choose the parameters that make the given observed data most likely. \n",
    "\n",
    "Example. Assume we have a skewed coin and a RV $X$ with $X=1$ for heads and $X=0$ for tails. We flip the coin $n$ times and observe that we have $\\{h\\cdot 1, t\\cdot 0\\}$. \n",
    "\n",
    "Let's estimate $p(X=1)=\\theta$ (and $p(X=0)=1-\\theta$). \n",
    "For a single flip:\n",
    "$$p_{\\theta}(x)= x\\theta +(1-x)(1-\\theta)$$\n",
    "And, the joint distribution:\n",
    "$$p_{\\theta}(h\\cdot 1, t\\cdot 0) = \\theta^h (1-\\theta)^{n-h}$$\n",
    "As an example, let's say $n=5$ and $t=3$, then $p_{\\theta}=\\theta^3(1-\\theta)^2$ which is our likelihood function to be maximized. \n",
    "\n",
    "Use highschool calc: $\\quad p_{\\theta}'=3\\theta^2 (1-\\theta)^2 - 2 \\theta^3 (1-\\theta)=\\theta^2\\theta(3(1-\\theta)-2\\theta)=0 \\quad \\rightarrow \\quad 3-5\\theta=0 \\quad \\rightarrow \\quad \\theta=\\frac{3}{5}=\\frac{t}{t+h}$\n",
    "\n",
    "This works analogously for serveral variables."
   ]
  },
  {
   "cell_type": "markdown",
   "metadata": {},
   "source": [
    "## A Bayesian Network for Medical Diagnosis "
   ]
  },
  {
   "cell_type": "code",
   "execution_count": 18,
   "metadata": {
    "collapsed": true
   },
   "outputs": [],
   "source": [
    "# credit: Andrew McCallum, UMASS, \n",
    "# https://people.cs.umass.edu/~mccallum/courses/gm2011/hw1.html\n",
    "\n",
    "# A GM for the binary values of the following parameters\n",
    "# (0) IsSummer true if it is the summer season, false otherwise.\n",
    "# (1) HasFlu true if the patient has the flu.\n",
    "# (2) HasFoodPoisoning true if the patient has food poisoning.\n",
    "# (3) HasHayFever true if patient has hay fever.\n",
    "# (4) HasPneumonia true if the patient has pneumonia.\n",
    "# (5) HasRespiratoryProblems true if the patient has problems in the respiratory system.\n",
    "# (6) HasGastricProblems true if the patient has problems in the gastro-intestinal system.\n",
    "# (7) HasRash true if the patient has a skin rash.\n",
    "# (8) Coughs true if the patient has a cough.\n",
    "# (9) IsFatigued true if the patient is tired and fatigued.\n",
    "# (10) Vomits true if the patient has vomited.\n",
    "# (11) HasFever true if the patient has a high fever.\n",
    "\n",
    "import pandas as pd\n",
    "from six.moves import urllib\n",
    "import os\n",
    "import tarfile \n",
    "from os import listdir\n",
    "\n",
    "download_path = 'https://people.cs.umass.edu/~mccallum/courses/gm2011/hw1.tar.gz'\n",
    "data_path = './data/'"
   ]
  },
  {
   "cell_type": "code",
   "execution_count": 19,
   "metadata": {
    "collapsed": false
   },
   "outputs": [
    {
     "data": {
      "text/plain": [
       "('./data/hw1.tar.gz', <http.client.HTTPMessage at 0x7f0f8c1bf748>)"
      ]
     },
     "execution_count": 19,
     "metadata": {},
     "output_type": "execute_result"
    },
    {
     "data": {
      "text/plain": [
       "['dataset.dat', 'joint.dat', 'hw1.tar.gz']"
      ]
     },
     "execution_count": 19,
     "metadata": {},
     "output_type": "execute_result"
    },
    {
     "name": "stdout",
     "output_type": "stream",
     "text": [
      "# data points: 4000000\n"
     ]
    },
    {
     "data": {
      "text/plain": [
       "array([   1.,  136.,    8.,    0.,  129.,    0.,  512.,  128.,    0.,    1.])"
      ]
     },
     "execution_count": 19,
     "metadata": {},
     "output_type": "execute_result"
    }
   ],
   "source": [
    "if not os.path.isdir(data_path):\n",
    "    os.makedirs(data_path)\n",
    "    \n",
    "    gz_path = os.path.join(data_path, 'hw1.tar.gz')\n",
    "    urllib.request.urlretrieve(download_path, gz_path)\n",
    "    gz = tarfile.open(gz_path)\n",
    "    gz.extractall(path=data_path)\n",
    "    gz.close() \n",
    "    \n",
    "    os.listdir(data_path)\n",
    "    path = os.path.join(data_path, os.listdir(data_path)[0])\n",
    "\n",
    "DataIn = np.loadtxt(path)\n",
    "print('# data points:',len(DataIn))\n",
    "# decimal representation of the 12 bit binary representation of the above random variables\n",
    "DataIn[0:10]\n",
    "D = [int(x) for x in DataIn]\n",
    "\n",
    "trueJointDistro = np.loadtxt(data_path+'joint.dat') # The true joint probability distribution\n",
    "trueJointDistro = list(trueJointDistro[:,1])"
   ]
  },
  {
   "cell_type": "code",
   "execution_count": 20,
   "metadata": {
    "collapsed": false
   },
   "outputs": [],
   "source": [
    "def binToVec(x):\n",
    "    V = []\n",
    "    x = x[2:]\n",
    "    l = len(x)\n",
    "    for i in range(l):\n",
    "        V.append(x[l-i-1])\n",
    "    for i in range(l,12):\n",
    "        V.append(0)\n",
    "    return V"
   ]
  },
  {
   "cell_type": "code",
   "execution_count": 21,
   "metadata": {
    "collapsed": false
   },
   "outputs": [],
   "source": [
    "summer = []\n",
    "flu = []\n",
    "foodPois = []\n",
    "hayFev = []\n",
    "pneum = []\n",
    "resp = []\n",
    "gastric = []\n",
    "rash = []\n",
    "cough = []\n",
    "fatigued = []\n",
    "vomit = []\n",
    "fever = []\n",
    "\n",
    "v = []\n",
    "\n",
    "for i in range(len(D)):\n",
    "    x = D[i]\n",
    "    x = bin(x)\n",
    "    v = binToVec(x)\n",
    "    \n",
    "    summer.append(int(v[0]))\n",
    "    flu.append(int(v[1]))\n",
    "    foodPois.append(int(v[2]))\n",
    "    hayFev.append(int(v[3]))\n",
    "    pneum.append(int(v[4]))\n",
    "    resp.append(int(v[5]))\n",
    "    gastric.append(int(v[6]))\n",
    "    rash.append(int(v[7]))\n",
    "    cough.append(int(v[8]))\n",
    "    fatigued.append(int(v[9]))\n",
    "    vomit.append(int(v[10]))\n",
    "    fever.append(int(v[11]))"
   ]
  },
  {
   "cell_type": "code",
   "execution_count": 22,
   "metadata": {
    "collapsed": true
   },
   "outputs": [],
   "source": [
    "from pgmpy.models import BayesianModel\n",
    "G = BayesianModel()\n",
    "G.add_nodes_from(['summer', 'flu', 'foodPois', 'hayFev', 'pneum', 'resp', 'gastric', 'rash', \n",
    "                  'cough', 'fatigued', 'vomit', 'fever']) \n",
    "G.add_edges_from([('flu','cough'),('flu','fever'),('flu','fatigued'),('foodPois','vomit'),('foodPois','gastric'),\n",
    "                  ('foodPois','fever'),('hayFev','rash'),('hayFev','resp'),('hayFev','summer'),\n",
    "                  ('pneum','cough'),('pneum','fever'),('pneum','resp')])\n",
    "from pgmpy.estimators import MaximumLikelihoodEstimator"
   ]
  },
  {
   "cell_type": "code",
   "execution_count": 23,
   "metadata": {
    "collapsed": false
   },
   "outputs": [
    {
     "data": {
      "image/png": "[encoded data removed]",
      "text/plain": [
       "<matplotlib.figure.Figure at 0x7f0f8c205a90>"
      ]
     },
     "metadata": {},
     "output_type": "display_data"
    }
   ],
   "source": [
    "import matplotlib.pyplot as plt\n",
    "import networkx as nx\n",
    "Graph = nx.DiGraph()\n",
    "\n",
    "Graph.add_nodes_from(['summer', 'flu', 'food poisoning', 'hay fever', 'pneumonia', 'respiratory problems', \n",
    "                      'gastric problems', 'rash', 'cough', 'fatigued', 'vomit', 'fever']) \n",
    "Graph.add_edges_from([('flu','cough'),('flu','fever'),('flu','fatigued'),('food poisoning','vomit'),\n",
    "                      ('food poisoning','gastric problems'), ('food poisoning','fever'),('hay fever','rash'),\n",
    "                      ('hay fever','respiratory problems'),('hay fever','summer'),('pneumonia','cough'),\n",
    "                      ('pneumonia','fever'),('pneumonia','respiratory problems')])\n",
    "\n",
    "pos = {'summer': (10, 20), 'flu': (30, 30), 'food poisoning': ( 12, 10), 'hay fever': ( 20, 10), \n",
    "       'pneumonia': (23, 25), 'respiratory problems': (14, 45), 'gastric problems': (20, 50), 'rash': (25, 0),\n",
    "       'cough':(30, 5), 'fatigued': (10, 30), 'vomit': (18, 5), 'fever': (30, 50)}\n",
    "\n",
    "for n, p in pos.items():\n",
    "    Graph.node[n]['pos'] = p\n",
    "\n",
    "nx.draw_networkx(Graph, pos = pos, node_size = 500, with_labels = True)\n",
    "\n",
    "plt.show()\n",
    "# beautiful vertex locations, right?"
   ]
  },
  {
   "cell_type": "code",
   "execution_count": 24,
   "metadata": {
    "collapsed": false
   },
   "outputs": [],
   "source": [
    "RVdata = pd.DataFrame({'summer': summer, 'flu': flu,'foodPois': foodPois, 'hayFev': hayFev, 'pneum': pneum,\n",
    "                       'resp': resp, 'gastric': gastric, 'rash': rash, 'cough':  cough, 'fatigued': fatigued,\n",
    "                       'vomit':  vomit, 'fever': fever})\n",
    "# the column names must match the vertex names\n",
    "#RVdata"
   ]
  },
  {
   "cell_type": "code",
   "execution_count": 25,
   "metadata": {
    "collapsed": true
   },
   "outputs": [],
   "source": [
    "G.fit(RVdata)"
   ]
  },
  {
   "cell_type": "code",
   "execution_count": 26,
   "metadata": {
    "collapsed": false,
    "scrolled": true
   },
   "outputs": [
    {
     "data": {
      "text/html": [
       "<div>\n",
       "<table border=\"1\" class=\"dataframe\">\n",
       "  <thead>\n",
       "    <tr style=\"text-align: right;\">\n",
       "      <th></th>\n",
       "      <th>cough</th>\n",
       "      <th>fatigued</th>\n",
       "      <th>fever</th>\n",
       "      <th>flu</th>\n",
       "      <th>foodPois</th>\n",
       "      <th>gastric</th>\n",
       "      <th>hayFev</th>\n",
       "      <th>pneum</th>\n",
       "      <th>rash</th>\n",
       "      <th>resp</th>\n",
       "      <th>summer</th>\n",
       "      <th>vomit</th>\n",
       "    </tr>\n",
       "  </thead>\n",
       "  <tbody>\n",
       "    <tr>\n",
       "      <th>0</th>\n",
       "      <td>0</td>\n",
       "      <td>0</td>\n",
       "      <td>0</td>\n",
       "      <td>0</td>\n",
       "      <td>0</td>\n",
       "      <td>0</td>\n",
       "      <td>0</td>\n",
       "      <td>0</td>\n",
       "      <td>0</td>\n",
       "      <td>0</td>\n",
       "      <td>1</td>\n",
       "      <td>0</td>\n",
       "    </tr>\n",
       "    <tr>\n",
       "      <th>1</th>\n",
       "      <td>0</td>\n",
       "      <td>0</td>\n",
       "      <td>0</td>\n",
       "      <td>0</td>\n",
       "      <td>0</td>\n",
       "      <td>0</td>\n",
       "      <td>1</td>\n",
       "      <td>0</td>\n",
       "      <td>1</td>\n",
       "      <td>0</td>\n",
       "      <td>0</td>\n",
       "      <td>0</td>\n",
       "    </tr>\n",
       "    <tr>\n",
       "      <th>2</th>\n",
       "      <td>0</td>\n",
       "      <td>0</td>\n",
       "      <td>0</td>\n",
       "      <td>0</td>\n",
       "      <td>0</td>\n",
       "      <td>0</td>\n",
       "      <td>1</td>\n",
       "      <td>0</td>\n",
       "      <td>0</td>\n",
       "      <td>0</td>\n",
       "      <td>0</td>\n",
       "      <td>0</td>\n",
       "    </tr>\n",
       "    <tr>\n",
       "      <th>3</th>\n",
       "      <td>0</td>\n",
       "      <td>0</td>\n",
       "      <td>0</td>\n",
       "      <td>0</td>\n",
       "      <td>0</td>\n",
       "      <td>0</td>\n",
       "      <td>0</td>\n",
       "      <td>0</td>\n",
       "      <td>0</td>\n",
       "      <td>0</td>\n",
       "      <td>0</td>\n",
       "      <td>0</td>\n",
       "    </tr>\n",
       "    <tr>\n",
       "      <th>4</th>\n",
       "      <td>0</td>\n",
       "      <td>0</td>\n",
       "      <td>0</td>\n",
       "      <td>0</td>\n",
       "      <td>0</td>\n",
       "      <td>0</td>\n",
       "      <td>0</td>\n",
       "      <td>0</td>\n",
       "      <td>1</td>\n",
       "      <td>0</td>\n",
       "      <td>1</td>\n",
       "      <td>0</td>\n",
       "    </tr>\n",
       "  </tbody>\n",
       "</table>\n",
       "</div>"
      ],
      "text/plain": [
       "   cough  fatigued  fever  flu  foodPois  gastric  hayFev  pneum  rash  resp  \\\n",
       "0      0         0      0    0         0        0       0      0     0     0   \n",
       "1      0         0      0    0         0        0       1      0     1     0   \n",
       "2      0         0      0    0         0        0       1      0     0     0   \n",
       "3      0         0      0    0         0        0       0      0     0     0   \n",
       "4      0         0      0    0         0        0       0      0     1     0   \n",
       "\n",
       "   summer  vomit  \n",
       "0       1      0  \n",
       "1       0      0  \n",
       "2       0      0  \n",
       "3       0      0  \n",
       "4       1      0  "
      ]
     },
     "execution_count": 26,
     "metadata": {},
     "output_type": "execute_result"
    }
   ],
   "source": [
    "RVdata.head()"
   ]
  },
  {
   "cell_type": "code",
   "execution_count": 27,
   "metadata": {
    "collapsed": false
   },
   "outputs": [
    {
     "data": {
      "text/plain": [
       "[<TabularCPD representing P(cough:2 | flu:2, pneum:2) at 0x7f0f88f54e10>,\n",
       " <TabularCPD representing P(fatigued:2 | flu:2) at 0x7f0f88f54a58>,\n",
       " <TabularCPD representing P(fever:2 | flu:2, foodPois:2, pneum:2) at 0x7f0f871091d0>,\n",
       " <TabularCPD representing P(flu:2) at 0x7f0f87109e10>,\n",
       " <TabularCPD representing P(foodPois:2) at 0x7f0f87109128>,\n",
       " <TabularCPD representing P(gastric:2 | foodPois:2) at 0x7f0f88f54dd8>,\n",
       " <TabularCPD representing P(hayFev:2) at 0x7f0f871095f8>,\n",
       " <TabularCPD representing P(pneum:2) at 0x7f0f87109a90>,\n",
       " <TabularCPD representing P(rash:2 | hayFev:2) at 0x7f0f871094e0>,\n",
       " <TabularCPD representing P(resp:2 | hayFev:2, pneum:2) at 0x7f0f87109ef0>,\n",
       " <TabularCPD representing P(summer:2 | hayFev:2) at 0x7f0f871096a0>,\n",
       " <TabularCPD representing P(vomit:2 | foodPois:2) at 0x7f0f871097b8>]"
      ]
     },
     "execution_count": 27,
     "metadata": {},
     "output_type": "execute_result"
    }
   ],
   "source": [
    "cpds = G.get_cpds()\n",
    "cpds"
   ]
  },
  {
   "cell_type": "code",
   "execution_count": 28,
   "metadata": {
    "collapsed": false
   },
   "outputs": [
    {
     "name": "stdout",
     "output_type": "stream",
     "text": [
      "╒═════════╤═════════════════════╤═════════════════════╤════════════════════╤═════════════════════╕\n",
      "│ hayFev  │ hayFev(0)           │ hayFev(0)           │ hayFev(1)          │ hayFev(1)           │\n",
      "├─────────┼─────────────────────┼─────────────────────┼────────────────────┼─────────────────────┤\n",
      "│ pneum   │ pneum(0)            │ pneum(1)            │ pneum(0)           │ pneum(1)            │\n",
      "├─────────┼─────────────────────┼─────────────────────┼────────────────────┼─────────────────────┤\n",
      "│ resp(0) │ 0.9742998112972271  │ 0.24712957900492072 │ 0.4964473281664287 │ 0.14119350371396197 │\n",
      "├─────────┼─────────────────────┼─────────────────────┼────────────────────┼─────────────────────┤\n",
      "│ resp(1) │ 0.02570018870277288 │ 0.7528704209950793  │ 0.5035526718335713 │ 0.858806496286038   │\n",
      "╘═════════╧═════════════════════╧═════════════════════╧════════════════════╧═════════════════════╛\n"
     ]
    }
   ],
   "source": [
    "print(G.get_cpds('resp'))"
   ]
  },
  {
   "cell_type": "code",
   "execution_count": 29,
   "metadata": {
    "collapsed": true
   },
   "outputs": [],
   "source": [
    "from pgmpy.inference import VariableElimination\n",
    "infer = VariableElimination(G)"
   ]
  },
  {
   "cell_type": "code",
   "execution_count": 30,
   "metadata": {
    "collapsed": false
   },
   "outputs": [
    {
     "name": "stdout",
     "output_type": "stream",
     "text": [
      "╒═══════╤════════════╕\n",
      "│ flu   │   phi(flu) │\n",
      "╞═══════╪════════════╡\n",
      "│ flu_0 │     0.4840 │\n",
      "├───────┼────────────┤\n",
      "│ flu_1 │     0.5160 │\n",
      "╘═══════╧════════════╛\n"
     ]
    }
   ],
   "source": [
    "posterior_p = infer.query(['flu'], evidence={'cough': 1, 'fever': 1})\n",
    "print(posterior_p['flu'])"
   ]
  },
  {
   "cell_type": "code",
   "execution_count": 31,
   "metadata": {
    "collapsed": false
   },
   "outputs": [
    {
     "name": "stdout",
     "output_type": "stream",
     "text": [
      "╒═══════╤════════════╕\n",
      "│ flu   │   phi(flu) │\n",
      "╞═══════╪════════════╡\n",
      "│ flu_0 │     0.9641 │\n",
      "├───────┼────────────┤\n",
      "│ flu_1 │     0.0359 │\n",
      "╘═══════╧════════════╛\n"
     ]
    }
   ],
   "source": [
    "posterior_p = infer.query(['flu'], evidence={'cough': 1, 'fever': 0})\n",
    "print(posterior_p['flu'])"
   ]
  },
  {
   "cell_type": "code",
   "execution_count": 32,
   "metadata": {
    "collapsed": false,
    "scrolled": true
   },
   "outputs": [],
   "source": [
    "# G.get_independencies()"
   ]
  },
  {
   "cell_type": "code",
   "execution_count": 33,
   "metadata": {
    "collapsed": false,
    "scrolled": true
   },
   "outputs": [
    {
     "name": "stdout",
     "output_type": "stream",
     "text": [
      "╒═════════╤═════════════════════╤═════════════════════╤════════════════════╤═════════════════════╕\n",
      "│ hayFev  │ hayFev(0)           │ hayFev(0)           │ hayFev(1)          │ hayFev(1)           │\n",
      "├─────────┼─────────────────────┼─────────────────────┼────────────────────┼─────────────────────┤\n",
      "│ pneum   │ pneum(0)            │ pneum(1)            │ pneum(0)           │ pneum(1)            │\n",
      "├─────────┼─────────────────────┼─────────────────────┼────────────────────┼─────────────────────┤\n",
      "│ resp(0) │ 0.9742998112972271  │ 0.24712957900492072 │ 0.4964473281664287 │ 0.14119350371396197 │\n",
      "├─────────┼─────────────────────┼─────────────────────┼────────────────────┼─────────────────────┤\n",
      "│ resp(1) │ 0.02570018870277288 │ 0.7528704209950793  │ 0.5035526718335713 │ 0.858806496286038   │\n",
      "╘═════════╧═════════════════════╧═════════════════════╧════════════════════╧═════════════════════╛\n"
     ]
    }
   ],
   "source": [
    "print(cpds[9])"
   ]
  },
  {
   "cell_type": "markdown",
   "metadata": {},
   "source": [
    "#### How to extract these conditional probability values from a given CPD?"
   ]
  },
  {
   "cell_type": "code",
   "execution_count": 34,
   "metadata": {
    "collapsed": false,
    "scrolled": true
   },
   "outputs": [
    {
     "data": {
      "text/plain": [
       "['resp', 'hayFev', 'pneum']"
      ]
     },
     "execution_count": 34,
     "metadata": {},
     "output_type": "execute_result"
    }
   ],
   "source": [
    "cpds[9].variables"
   ]
  },
  {
   "cell_type": "code",
   "execution_count": 35,
   "metadata": {
    "collapsed": false
   },
   "outputs": [
    {
     "data": {
      "text/plain": [
       "array([[[ 0.97429981,  0.24712958],\n",
       "        [ 0.49644733,  0.1411935 ]],\n",
       "\n",
       "       [[ 0.02570019,  0.75287042],\n",
       "        [ 0.50355267,  0.8588065 ]]])"
      ]
     },
     "execution_count": 35,
     "metadata": {},
     "output_type": "execute_result"
    }
   ],
   "source": [
    "cpds[9].values"
   ]
  },
  {
   "cell_type": "code",
   "execution_count": 36,
   "metadata": {
    "collapsed": false
   },
   "outputs": [
    {
     "data": {
      "text/plain": [
       "(2, 2, 2)"
      ]
     },
     "execution_count": 36,
     "metadata": {},
     "output_type": "execute_result"
    },
    {
     "data": {
      "text/plain": [
       "array([[[ 0.97429981,  0.24712958],\n",
       "        [ 0.49644733,  0.1411935 ]],\n",
       "\n",
       "       [[ 0.02570019,  0.75287042],\n",
       "        [ 0.50355267,  0.8588065 ]]])"
      ]
     },
     "execution_count": 36,
     "metadata": {},
     "output_type": "execute_result"
    }
   ],
   "source": [
    "cpd = cpds[9].values\n",
    "cpd.shape\n",
    "cpd"
   ]
  },
  {
   "cell_type": "code",
   "execution_count": 37,
   "metadata": {
    "collapsed": false
   },
   "outputs": [
    {
     "data": {
      "text/plain": [
       "0.49644732816642873"
      ]
     },
     "execution_count": 37,
     "metadata": {},
     "output_type": "execute_result"
    }
   ],
   "source": [
    "# pr(res=1|hayFev=1, pneum=0)\n",
    "cpd[0][1][0]"
   ]
  },
  {
   "cell_type": "markdown",
   "metadata": {},
   "source": [
    "## Model Evaluation"
   ]
  },
  {
   "cell_type": "markdown",
   "metadata": {},
   "source": [
    "Let $p^*$ is the true distribution (if it's available) and $p$ is the estimated one. There are several measures of accuracy:\n",
    "\n",
    "- The simplest might be based on the $\\ell_1$-norm:\n",
    "$$\n",
    "\\sum_{x_1,\\dots, x_n} |p(x_i)-p^*(x_i)|\n",
    "$$\n",
    "\n",
    "- A more sophisticated one is based on the concept of entropy:\n",
    "\n",
    "$$\n",
    "D(P||P^*)  = E_{\\xi \\approx p^*}\\left[ \\log(\\frac{p^*(\\xi)}{p(\\xi)})\\right] = \\cdots = - H_p(X) - E_{\\xi \\approx p^*}[log(p)]$$\n",
    "\n",
    "Here, $H_p(X)$ is the entropy of $X$ and the last term is called the **expected log-likelihood** and our goal is to maximize that across all possible models. \n",
    "\n",
    "- The **Kullback-Leibler **(KL) divergence is as follows where our goal is to choose a graph structure that produces a small enough KL value. \n",
    "\n",
    "$$KL(p||p^*)=\\Sigma_xq(x)\\log\\frac{p(x)}{p^*(x)}$$\n",
    "\n",
    "An implementation of the KL divergence follows:"
   ]
  },
  {
   "cell_type": "code",
   "execution_count": 38,
   "metadata": {
    "collapsed": false
   },
   "outputs": [
    {
     "name": "stdout",
     "output_type": "stream",
     "text": [
      "dict[i] = label of column i in RVdata:\n",
      "dict= {'cough': 0, 'fatigued': 1, 'fever': 2, 'flu': 3, 'foodPois': 4, 'gastric': 5, 'hayFev': 6, 'pneum': 7, 'rash': 8, 'resp': 9, 'summer': 10, 'vomit': 11}\n"
     ]
    }
   ],
   "source": [
    "cols = list(RVdata.columns)\n",
    "\n",
    "dict = {}\n",
    "for i in range(12):\n",
    "    dict[cols[i]] = cols.index(cols[i])\n",
    "\n",
    "print('dict[i] = label of column i in RVdata:')\n",
    "print('dict=', dict)\n",
    "\n",
    "def vars_vals_trans(variables, B): # variables is a subset of the column labels (corresponding to the 12 RVs)\n",
    "    V = []                         # B is a binary vector of length 12\n",
    "    # R = list(RVdata.loc[i].values)\n",
    "    l = len(variables)\n",
    "    for j in range(l):\n",
    "        V.append(int(B[dict[variables[j]]]))\n",
    "    return V\n",
    "\n",
    "def cond_prob(cpd, b): # pr(B_0=b_0|B_1=b_1,...)\n",
    "    # b is a 12-bit binary vector\n",
    "    cpd_vars = cpd.variables\n",
    "    vals = vars_vals_trans(cpd_vars, b)\n",
    "    p = cpd.values[vals[0]]\n",
    "    for i in range(1,len(vals)):\n",
    "        p = p[vals[i]]\n",
    "    return p\n",
    "\n",
    "def joint_prob(b, CPDS = cpds): # b is a binary vector of length 12\n",
    "    c = len(CPDS)\n",
    "    p = 1\n",
    "    for i in range(c):\n",
    "        p *= cond_prob(CPDS[i], b)\n",
    "    return p\n",
    "\n",
    "def KL(): # Kullback–Leibler divergence\n",
    "    D = 0\n",
    "    for x in range(2**12):\n",
    "        b = bin(x)\n",
    "        b = binToVec(b)\n",
    "        p = joint_prob(b)\n",
    "        true_p = trueJointDistro[x]\n",
    "        D += p*np.log(p/true_p)\n",
    "    return D"
   ]
  },
  {
   "cell_type": "code",
   "execution_count": 39,
   "metadata": {
    "collapsed": false
   },
   "outputs": [
    {
     "data": {
      "text/plain": [
       "1.8593414519066438"
      ]
     },
     "execution_count": 39,
     "metadata": {},
     "output_type": "execute_result"
    }
   ],
   "source": [
    "# The Kullback-Leibler (KL) divergence:\n",
    "KL()"
   ]
  },
  {
   "cell_type": "markdown",
   "metadata": {},
   "source": [
    "#### How can this be improved by changing the graph structure?"
   ]
  },
  {
   "cell_type": "markdown",
   "metadata": {},
   "source": [
    "### References:\n",
    "- Probabilistic Graphical Models, Koller and Friedman\n",
    "- Pgmpy by Ankur Ankan and Abinash Panda\n",
    "- Online course notes by Andrew McCallum\n",
    "- Online course notes by Stefano Ermon"
   ]
  }
 ],
 "metadata": {
  "kernelspec": {
   "display_name": "Python [conda env:py36]",
   "language": "python",
   "name": "conda-env-py36-py"
  },
  "language_info": {
   "codemirror_mode": {
    "name": "ipython",
    "version": 3
   },
   "file_extension": ".py",
   "mimetype": "text/x-python",
   "name": "python",
   "nbconvert_exporter": "python",
   "pygments_lexer": "ipython3",
   "version": "3.6.0"
  }
 },
 "nbformat": 4,
 "nbformat_minor": 2
}
